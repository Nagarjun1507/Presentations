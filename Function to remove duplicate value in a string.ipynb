{
 "cells": [
  {
   "cell_type": "code",
   "execution_count": 2,
   "metadata": {},
   "outputs": [
    {
     "name": "stdout",
     "output_type": "stream",
     "text": [
      "Enter the string :deehlgathfr\n",
      "uinque string is dehlgatfr\n"
     ]
    }
   ],
   "source": [
    "# Function to remove duplicate values in a string\n",
    "def removeDuplicate(str1,n):\n",
    "    index = 0\n",
    "    for i in range(0,n): # going through all the characters\n",
    "        for j in range(0,i+1):#checking if str[i] is present before it\n",
    "            if (str1[i] == str1[j]):\n",
    "                break\n",
    "        if (j == i):# if not present add it to unique \n",
    "            str1[index] = str1[i]\n",
    "            index = index+1\n",
    "    return \"\".join(str1[:index])\n",
    "str1 = input(\"Enter the string :\")\n",
    "n = len(str1)\n",
    "print(\"uinque string is\" ,removeDuplicate(list(str1),n))"
   ]
  }
 ],
 "metadata": {
  "kernelspec": {
   "display_name": "Python 3",
   "language": "python",
   "name": "python3"
  },
  "language_info": {
   "codemirror_mode": {
    "name": "ipython",
    "version": 3
   },
   "file_extension": ".py",
   "mimetype": "text/x-python",
   "name": "python",
   "nbconvert_exporter": "python",
   "pygments_lexer": "ipython3",
   "version": "3.8.3"
  }
 },
 "nbformat": 4,
 "nbformat_minor": 4
}

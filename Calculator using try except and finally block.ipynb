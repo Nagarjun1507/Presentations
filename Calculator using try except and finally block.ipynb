{
 "cells": [
  {
   "cell_type": "code",
   "execution_count": 52,
   "metadata": {},
   "outputs": [
    {
     "name": "stdout",
     "output_type": "stream",
     "text": [
      "enter 1 for add, 2 for sub, 3 for prod and 4 for div : 4\n",
      "Enter first number :5\n",
      "Enter second number :0\n",
      "Please enter non-zero number\n",
      "end of prgrm\n"
     ]
    }
   ],
   "source": [
    "oprn = input(\"enter 1 for add, 2 for sub, 3 for prod and 4 for div : \")\n",
    "try:\n",
    "    num1 = int(input(\"Enter first number :\"))\n",
    "    num2 = int(input(\"Enter second number :\"))\n",
    "\n",
    "        \n",
    "    \n",
    "except ValueError:\n",
    "    print(\"Please enter numbers only\")\n",
    "\n",
    "    \n",
    "def add(num1,num2):\n",
    "    try:\n",
    "        result = num1+num2\n",
    "        print(\"result is :\" , result)\n",
    "    except ValueError:\n",
    "        print(\"Please enter numbers only\")\n",
    "\n",
    "\n",
    "def sub(num1,num2):\n",
    "    try:\n",
    "        result = num1-num2\n",
    "        print(\"result is :\" , result)\n",
    "    except ValueError:\n",
    "        print(\"Please enter numbers only\")\n",
    "\n",
    "def prod(num1,num2):\n",
    "    try:\n",
    "        result = num1*num2\n",
    "        print(\"result is :\" , result)\n",
    "    except ValueError:\n",
    "        print(\"Please enter numbers only\")\n",
    "\n",
    "def div(num1,num2):\n",
    "    try:\n",
    "        result = num1/num2\n",
    "        print(\"result is :\" , result)\n",
    "    except ZeroDivisionError:\n",
    "        print(\"Please enter non-zero number\")\n",
    "    except ValueError:    \n",
    "        print(\"Please enter numbers only\")\n",
    "\n",
    "try:\n",
    "    if (oprn == \"1\"):\n",
    "        add(num1,num2)\n",
    "        \n",
    "    elif(oprn == \"2\"):\n",
    "        sub(num1,num2)\n",
    "        \n",
    "    elif(oprn == \"3\"):\n",
    "        prod(num1,num2)\n",
    "    \n",
    "    elif(oprn == \"4\"):\n",
    "        div(num1,num2)\n",
    "\n",
    "    else:\n",
    "        print(\"Entred operation is not found, enter the specified operator and try again\")  \n",
    "\n",
    "    \n",
    "finally:\n",
    "    print(\"end of prgrm\")\n"
   ]
  }
 ],
 "metadata": {
  "kernelspec": {
   "display_name": "Python 3",
   "language": "python",
   "name": "python3"
  },
  "language_info": {
   "codemirror_mode": {
    "name": "ipython",
    "version": 3
   },
   "file_extension": ".py",
   "mimetype": "text/x-python",
   "name": "python",
   "nbconvert_exporter": "python",
   "pygments_lexer": "ipython3",
   "version": "3.8.3"
  }
 },
 "nbformat": 4,
 "nbformat_minor": 4
}

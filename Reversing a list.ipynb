{
 "cells": [
  {
   "cell_type": "code",
   "execution_count": 2,
   "metadata": {},
   "outputs": [
    {
     "name": "stdout",
     "output_type": "stream",
     "text": [
      "Enter the number of elements in the list : 4\n",
      "5\n",
      "3\n",
      "s\n",
      "a\n",
      "The original list is ['5', '3', 's', 'a']\n",
      "reversed list is ['a', 's', '3', '5']\n"
     ]
    }
   ],
   "source": [
    "### taking a list as input from user and reversing it\n",
    "# one way of reversing a list\n",
    "list1 = []\n",
    "n = int(input(\"Enter the number of elements in the list : \"))\n",
    "for i in range (0,n):\n",
    "    elem = input()\n",
    "    list1.append(elem)\n",
    "print(\"The original list is\" ,list1)\n",
    "reverse_list = list1[::-1]\n",
    "print(\"reversed list is\" , reverse_list)"
   ]
  },
  {
   "cell_type": "code",
   "execution_count": null,
   "metadata": {},
   "outputs": [],
   "source": [
    "### taking a list as inout from user and reversing it\n",
    "# another way of reversing a list\n",
    "list1 = []\n",
    "n = int(input(\"Enter the number of elements in the list : \"))\n",
    "for i in range (0,n):\n",
    "    elem = input()\n",
    "    list1.append(elem)\n",
    "print(\"The original list is\" ,list1)\n",
    "list1.reverse()\n",
    "print(\"the reversed list is\" ,list1)"
   ]
  }
 ],
 "metadata": {
  "kernelspec": {
   "display_name": "Python 3",
   "language": "python",
   "name": "python3"
  },
  "language_info": {
   "codemirror_mode": {
    "name": "ipython",
    "version": 3
   },
   "file_extension": ".py",
   "mimetype": "text/x-python",
   "name": "python",
   "nbconvert_exporter": "python",
   "pygments_lexer": "ipython3",
   "version": "3.8.3"
  }
 },
 "nbformat": 4,
 "nbformat_minor": 4
}
